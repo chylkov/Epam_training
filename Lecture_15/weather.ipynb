{
 "cells": [
  {
   "cell_type": "code",
   "execution_count": 52,
   "metadata": {},
   "outputs": [],
   "source": [
    "def coordinate(location):\n",
    "    import requests\n",
    "\n",
    "    url = \"https://nominatim.openstreetmap.org/search.php\"\n",
    "\n",
    "    querystring = {\"q\":location,\"polygon_geojson\":\"1\",\"viewbox\":\"\", \"format\":\"json\"}\n",
    "\n",
    "    response = requests.request(\"GET\", url, params=querystring)\n",
    "    \n",
    "    data = response.json()\n",
    "    \n",
    "    coordinates = (data[0]['lat'], data[0]['lon'])\n",
    "    \n",
    "    return coordinates\n",
    "\n",
    "\n",
    "\n",
    "def weather(location, *appid):\n",
    "\n",
    "    import requests\n",
    "\n",
    "    url = \"http://api.openweathermap.org/data/2.5/weather\"\n",
    "    \n",
    "    lat = coordinate(location)[0]\n",
    "    lon = coordinate(location)[1]\n",
    "    \n",
    "    if len(list(appid)) == 0:\n",
    "        querystring = {\"lat\":lat,\"lon\":lon,\"appid\":\"b4a9d8e16b916107e741f1e84440c660\"}\n",
    "    else:\n",
    "        querystring = {\"lat\":lat,\"lon\":lon,\"appid\":appid}\n",
    "\n",
    "    response = requests.request(\"GET\", url, params=querystring)\n",
    "\n",
    "    data = response.json()\n",
    "\n",
    "    return data['weather'][0]['description']\n"
   ]
  },
  {
   "cell_type": "code",
   "execution_count": 53,
   "metadata": {},
   "outputs": [
    {
     "data": {
      "text/plain": [
       "('59.915724', '30.3184336')"
      ]
     },
     "execution_count": 53,
     "metadata": {},
     "output_type": "execute_result"
    }
   ],
   "source": [
    "coordinate('Санкт Петербург Московский 30')"
   ]
  },
  {
   "cell_type": "code",
   "execution_count": 54,
   "metadata": {},
   "outputs": [
    {
     "name": "stdout",
     "output_type": "stream",
     "text": [
      "few clouds\n"
     ]
    }
   ],
   "source": [
    "print(weather('Санкт Петербург Московский 30'))"
   ]
  },
  {
   "cell_type": "code",
   "execution_count": null,
   "metadata": {},
   "outputs": [],
   "source": [
    "    \n",
    "    import requests\n",
    "\n",
    "    url = \"http://api.openweathermap.org/data/2.5/forecast\"\n",
    "\n",
    "    querystring = {\"lat\":\"35\",\"lon\":\"139\",\"appid\":\"b4a9d8e16b916107e741f1e84440c660\"}\n",
    "\n",
    "    headers = {\n",
    "        'Cache-Control': \"no-cache\",\n",
    "        'Postman-Token': \"b4a9d8e16b916107e741f1e84440c660\"\n",
    "        }\n",
    "\n",
    "    response = requests.request(\"GET\", url, headers=headers, params=querystring)\n",
    "\n",
    "    print(response.text)"
   ]
  }
 ],
 "metadata": {
  "kernelspec": {
   "display_name": "Python 3",
   "language": "python",
   "name": "python3"
  },
  "language_info": {
   "codemirror_mode": {
    "name": "ipython",
    "version": 3
   },
   "file_extension": ".py",
   "mimetype": "text/x-python",
   "name": "python",
   "nbconvert_exporter": "python",
   "pygments_lexer": "ipython3",
   "version": "3.6.4"
  }
 },
 "nbformat": 4,
 "nbformat_minor": 2
}
