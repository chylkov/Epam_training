{
 "cells": [
  {
   "cell_type": "markdown",
   "metadata": {},
   "source": [
    "# Устанавливаем и импортируем пакет stats:"
   ]
  },
  {
   "cell_type": "code",
   "execution_count": 1,
   "metadata": {},
   "outputs": [
    {
     "name": "stdout",
     "output_type": "stream",
     "text": [
      "Requirement already satisfied: stats in c:\\users\\nicka\\pycharmprojects\\stats\n",
      "Requirement already satisfied: matplotlib in c:\\users\\nicka\\pycharmprojects\\stats\\venv\\lib\\site-packages (from stats)\n",
      "Requirement already satisfied: cycler>=0.10 in c:\\users\\nicka\\pycharmprojects\\stats\\venv\\lib\\site-packages (from matplotlib->stats)\n",
      "Requirement already satisfied: six>=1.10 in c:\\users\\nicka\\pycharmprojects\\stats\\venv\\lib\\site-packages (from matplotlib->stats)\n",
      "Requirement already satisfied: kiwisolver>=1.0.1 in c:\\users\\nicka\\pycharmprojects\\stats\\venv\\lib\\site-packages (from matplotlib->stats)\n",
      "Requirement already satisfied: numpy>=1.7.1 in c:\\users\\nicka\\pycharmprojects\\stats\\venv\\lib\\site-packages (from matplotlib->stats)\n",
      "Requirement already satisfied: pytz in c:\\users\\nicka\\pycharmprojects\\stats\\venv\\lib\\site-packages (from matplotlib->stats)\n",
      "Requirement already satisfied: pyparsing!=2.0.4,!=2.1.2,!=2.1.6,>=2.0.1 in c:\\users\\nicka\\pycharmprojects\\stats\\venv\\lib\\site-packages (from matplotlib->stats)\n",
      "Requirement already satisfied: python-dateutil>=2.1 in c:\\users\\nicka\\pycharmprojects\\stats\\venv\\lib\\site-packages (from matplotlib->stats)\n",
      "Requirement already satisfied: setuptools in c:\\users\\nicka\\pycharmprojects\\stats\\venv\\lib\\site-packages\\setuptools-28.8.0-py3.6.egg (from kiwisolver>=1.0.1->matplotlib->stats)\n"
     ]
    },
    {
     "name": "stderr",
     "output_type": "stream",
     "text": [
      "You are using pip version 9.0.1, however version 10.0.1 is available.\n",
      "You should consider upgrading via the 'python -m pip install --upgrade pip' command.\n"
     ]
    }
   ],
   "source": [
    "!pip install stats"
   ]
  },
  {
   "cell_type": "code",
   "execution_count": 2,
   "metadata": {},
   "outputs": [],
   "source": [
    "import stats.base as stbs\n",
    "import stats.stats as st\n",
    "import stats.plot as plt"
   ]
  },
  {
   "cell_type": "markdown",
   "metadata": {},
   "source": [
    "# 1. Пакет stats.base"
   ]
  },
  {
   "cell_type": "markdown",
   "metadata": {},
   "source": [
    "В этом подпакете содержаться функции для скачивания и первичной обработки данных. Например, функция download_csv, позволяющая скачать csv-файл через его url:"
   ]
  },
  {
   "cell_type": "code",
   "execution_count": 6,
   "metadata": {},
   "outputs": [],
   "source": [
    "raw_data = stbs.download_csv('https://raw.githubusercontent.com/plotly/datasets/master/Mining-BTC-180.csv')"
   ]
  },
  {
   "cell_type": "markdown",
   "metadata": {},
   "source": [
    "Теперь изпользуем функцию make_columns, чтобы привести данные в удобный формат."
   ]
  },
  {
   "cell_type": "code",
   "execution_count": 32,
   "metadata": {},
   "outputs": [
    {
     "data": {
      "text/plain": [
       "[{'': '0'},\n",
       " {'Date': '2017-04-29 00:00:00'},\n",
       " {'Number-transactions': '341319'},\n",
       " {'Output-volume(BTC)': '4488916'},\n",
       " {'Market-price': '3119179'},\n",
       " {'Hash-rate': '4488916'},\n",
       " {'Cost-per-trans-USD': '9'},\n",
       " {'Mining-revenue-USD': '3119179'},\n",
       " {'Transaction-fees-BTC': '256'}]"
      ]
     },
     "execution_count": 32,
     "metadata": {},
     "output_type": "execute_result"
    }
   ],
   "source": [
    "less_raw_data = stbs.make_columns(raw_data)\n",
    "[{column: less_raw_data[column][0]} for column in less_raw_data]"
   ]
  },
  {
   "cell_type": "markdown",
   "metadata": {},
   "source": [
    "Посмотрев на первую строку в данных видно, что почти все столбцы было бы удобно привести к числовому формату. Изпользуем функцию make_numeric, чтобы привести к типу float все столбцы, которые сможем."
   ]
  },
  {
   "cell_type": "code",
   "execution_count": 37,
   "metadata": {},
   "outputs": [
    {
     "data": {
      "text/plain": [
       "[{'': 0.0},\n",
       " {'Date': '2017-04-29 00:00:00'},\n",
       " {'Number-transactions': 341319.0},\n",
       " {'Output-volume(BTC)': 4488916.0},\n",
       " {'Market-price': 3119179.0},\n",
       " {'Hash-rate': 4488916.0},\n",
       " {'Cost-per-trans-USD': 9.0},\n",
       " {'Mining-revenue-USD': 3119179.0},\n",
       " {'Transaction-fees-BTC': 256.0}]"
      ]
     },
     "execution_count": 37,
     "metadata": {},
     "output_type": "execute_result"
    }
   ],
   "source": [
    "data = {key: stbs.make_numeric(less_raw_data[key]) for key in less_raw_data}\n",
    "[{column: data[column][0]} for column in data]"
   ]
  },
  {
   "cell_type": "markdown",
   "metadata": {},
   "source": [
    "# 2. Пакет stats.stats"
   ]
  },
  {
   "cell_type": "markdown",
   "metadata": {},
   "source": [
    "Этот подпакет содержит основные функции для статитистического анализа данных."
   ]
  },
  {
   "cell_type": "markdown",
   "metadata": {},
   "source": [
    "Можем взять среднее:"
   ]
  },
  {
   "cell_type": "code",
   "execution_count": 39,
   "metadata": {},
   "outputs": [
    {
     "data": {
      "text/plain": [
       "27.223463687150836"
      ]
     },
     "execution_count": 39,
     "metadata": {},
     "output_type": "execute_result"
    }
   ],
   "source": [
    "st.mean(data['Cost-per-trans-USD'])"
   ]
  },
  {
   "cell_type": "markdown",
   "metadata": {},
   "source": [
    "Медиану:"
   ]
  },
  {
   "cell_type": "code",
   "execution_count": 41,
   "metadata": {},
   "outputs": [
    {
     "data": {
      "text/plain": [
       "26.0"
      ]
     },
     "execution_count": 41,
     "metadata": {},
     "output_type": "execute_result"
    }
   ],
   "source": [
    "st.median(data['Cost-per-trans-USD'])"
   ]
  },
  {
   "cell_type": "markdown",
   "metadata": {},
   "source": [
    "Стандартное отклонение:"
   ]
  },
  {
   "cell_type": "code",
   "execution_count": 51,
   "metadata": {},
   "outputs": [
    {
     "data": {
      "text/plain": [
       "129.19839114767439"
      ]
     },
     "execution_count": 51,
     "metadata": {},
     "output_type": "execute_result"
    }
   ],
   "source": [
    "st.std(data['Transaction-fees-BTC'])"
   ]
  },
  {
   "cell_type": "markdown",
   "metadata": {},
   "source": [
    "Корреляцию:"
   ]
  },
  {
   "cell_type": "code",
   "execution_count": 47,
   "metadata": {},
   "outputs": [
    {
     "data": {
      "text/plain": [
       "-0.41453619643547324"
      ]
     },
     "execution_count": 47,
     "metadata": {},
     "output_type": "execute_result"
    }
   ],
   "source": [
    "st.correlation(data['Transaction-fees-BTC'], data['Cost-per-trans-USD'])"
   ]
  },
  {
   "cell_type": "code",
   "execution_count": 49,
   "metadata": {},
   "outputs": [
    {
     "data": {
      "text/plain": [
       "0.8646502241764542"
      ]
     },
     "execution_count": 49,
     "metadata": {},
     "output_type": "execute_result"
    }
   ],
   "source": [
    "st.correlation(data['Output-volume(BTC)'], data['Mining-revenue-USD'])"
   ]
  },
  {
   "cell_type": "markdown",
   "metadata": {},
   "source": [
    "Квантиль:"
   ]
  },
  {
   "cell_type": "code",
   "execution_count": 53,
   "metadata": {},
   "outputs": [
    {
     "data": {
      "text/plain": [
       "267360.0"
      ]
     },
     "execution_count": 53,
     "metadata": {},
     "output_type": "execute_result"
    }
   ],
   "source": [
    "st.quantile(data['Number-transactions'], 0.5)"
   ]
  },
  {
   "cell_type": "markdown",
   "metadata": {},
   "source": [
    "# 3. Пакет stats.plot"
   ]
  },
  {
   "cell_type": "markdown",
   "metadata": {},
   "source": [
    "Этот пакет содержит функции для построения графиков по данным."
   ]
  },
  {
   "cell_type": "markdown",
   "metadata": {},
   "source": [
    "1. Обычный график (обертка функции plot из mathplotlib.pyplot)"
   ]
  },
  {
   "cell_type": "code",
   "execution_count": 55,
   "metadata": {},
   "outputs": [
    {
     "data": {
      "image/png": "[encoded data removed]",
      "text/plain": [
       "<Figure size 432x288 with 1 Axes>"
      ]
     },
     "metadata": {},
     "output_type": "display_data"
    }
   ],
   "source": [
    "plt.plot(data['Cost-per-trans-USD'])"
   ]
  },
  {
   "cell_type": "markdown",
   "metadata": {},
   "source": [
    "2. Boxplot"
   ]
  },
  {
   "cell_type": "code",
   "execution_count": 57,
   "metadata": {},
   "outputs": [
    {
     "data": {
      "image/png": "[encoded data removed]",
      "text/plain": [
       "<Figure size 432x288 with 1 Axes>"
      ]
     },
     "metadata": {},
     "output_type": "display_data"
    }
   ],
   "source": [
    "plt.box_plot(data['Cost-per-trans-USD'])"
   ]
  },
  {
   "cell_type": "markdown",
   "metadata": {},
   "source": [
    "3. Гистограмма"
   ]
  },
  {
   "cell_type": "code",
   "execution_count": 72,
   "metadata": {},
   "outputs": [
    {
     "data": {
      "image/png": "[encoded data removed]",
      "text/plain": [
       "<Figure size 432x288 with 1 Axes>"
      ]
     },
     "metadata": {},
     "output_type": "display_data"
    }
   ],
   "source": [
    "plt.hist(data['Mining-revenue-USD'], 1000000, title='Mining revenue', xlabel='Revenue USD 1kk', ylabel='Frequency')"
   ]
  }
 ],
 "metadata": {
  "kernelspec": {
   "display_name": "Python 3",
   "language": "python",
   "name": "python3"
  },
  "language_info": {
   "codemirror_mode": {
    "name": "ipython",
    "version": 3
   },
   "file_extension": ".py",
   "mimetype": "text/x-python",
   "name": "python",
   "nbconvert_exporter": "python",
   "pygments_lexer": "ipython3",
   "version": "3.6.4"
  }
 },
 "nbformat": 4,
 "nbformat_minor": 2
}
